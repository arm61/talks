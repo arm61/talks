{
 "cells": [
  {
   "cell_type": "code",
   "execution_count": null,
   "metadata": {
    "collapsed": true,
    "slideshow": {
     "slide_type": "slide"
    }
   },
   "outputs": [],
   "source": [
    "from pylj import md, pairwise, util, sample"
   ]
  },
  {
   "cell_type": "code",
   "execution_count": null,
   "metadata": {
    "collapsed": true,
    "slideshow": {
     "slide_type": "slide"
    }
   },
   "outputs": [],
   "source": [
    "def md_simulation(number_of_particles, temperature, box_length, number_of_steps, sampling_class):\n",
    "    # Creates the visualisation environment\n",
    "    %matplotlib notebook\n",
    "    # Initialise the system\n",
    "    system = md.initialise(number_of_particles, temperature, box_length, 'square')\n",
    "    # This sets the sampling class\n",
    "    sample_system = sampling_class(system)\n",
    "    # Start at time 0\n",
    "    system.time = 0\n",
    "    # Begin the molecular dynamics loop\n",
    "    for i in range(0, number_of_steps):\n",
    "        # At each step, calculate the forces on each particle and get acceleration\n",
    "        system.particles, system.distances, system.forces, system.energies = pairwise.compute_force(system.particles, \n",
    "                                                                                                 system.box_length, \n",
    "                                                                                                 system.cut_off)\n",
    "        # Run the equations of motion integrator algorithm\n",
    "        system.particles, system.distances, system.forces, system.energies = md.velocity_verlet(system.particles, system.timestep_length, system.box_length, \n",
    "                                              system.cut_off)\n",
    "        # Sample the thermodynamic and structural parameters of the system\n",
    "        system = md.sample(system.particles, system.box_length, system.initial_particles, system)\n",
    "        # Allow the system to interact with a heat bath\n",
    "        system.particles = pairwise.heat_bath(system.particles, system.temperature_sample, temperature)\n",
    "        # Iterate the time\n",
    "        system.time += system.timestep_length\n",
    "        system.step += 1\n",
    "        # At a given frequency sample the positions and plot the RDF\n",
    "        if system.step % 25 == 0:\n",
    "            sample_system.update(system)\n",
    "    return system"
   ]
  },
  {
   "cell_type": "code",
   "execution_count": null,
   "metadata": {
    "scrolled": false,
    "slideshow": {
     "slide_type": "slide"
    }
   },
   "outputs": [],
   "source": [
    "sim = md_simulation(20, 298, 20, 2000, sample.JustCell)"
   ]
  },
  {
   "cell_type": "code",
   "execution_count": null,
   "metadata": {},
   "outputs": [],
   "source": [
    "%matplotlib inline\n",
    "import matplotlib.pyplot as plt\n",
    "import seaborn as sns\n",
    "sns.set('poster', palette='colorblind')\n",
    "\n",
    "plt.show()"
   ]
  },
  {
   "cell_type": "code",
   "execution_count": null,
   "metadata": {
    "collapsed": true
   },
   "outputs": [],
   "source": []
  }
 ],
 "metadata": {
  "celltoolbar": "Slideshow",
  "kernelspec": {
   "display_name": "Python 3",
   "language": "python",
   "name": "python3"
  },
  "language_info": {
   "codemirror_mode": {
    "name": "ipython",
    "version": 3
   },
   "file_extension": ".py",
   "mimetype": "text/x-python",
   "name": "python",
   "nbconvert_exporter": "python",
   "pygments_lexer": "ipython3",
   "version": "3.6.3"
  },
  "latex_envs": {
   "LaTeX_envs_menu_present": true,
   "autoclose": false,
   "autocomplete": true,
   "bibliofile": "biblio.bib",
   "cite_by": "apalike",
   "current_citInitial": 1,
   "eqLabelWithNumbers": true,
   "eqNumInitial": 1,
   "hotkeys": {
    "equation": "Ctrl-E",
    "itemize": "Ctrl-I"
   },
   "labels_anchors": false,
   "latex_user_defs": false,
   "report_style_numbering": false,
   "user_envs_cfg": false
  }
 },
 "nbformat": 4,
 "nbformat_minor": 2
}
