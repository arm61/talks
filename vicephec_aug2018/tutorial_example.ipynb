{
 "cells": [
  {
   "cell_type": "markdown",
   "metadata": {
    "slideshow": {
     "slide_type": "slide"
    }
   },
   "source": [
    "# Question\n",
    "\n",
    "## Reorganise the ideal gas equation by substituting in the molar mass, *M*, and the mass density, *ρ*, of the gas to give a relationship between the pressure and the density. \n",
    "\n",
    "## The data below refer to dimethyl ether (methoxymethane, CH<sub>3</sub>OCH<sub>3</sub>) gas at 25 <sup>o</sup>C. \n",
    "\n",
    "### a) Plot a graph of the data to demonstrate whether the gas acts as an ideal gas. Comment on the graph and the behaviour of the gas.\n",
    "\n",
    "### b) From the results, calculate the relative molar mass of the gas and compare it with the value obtained by adding up the relative atomic masses.\n",
    "<br>\n",
    "<table width=\"100%\">\n",
    "    <tr>\n",
    "        <td><h3><italic>p</italic>/Pa</h3></td>\n",
    "        <td><h3>12231</h3></td>\n",
    "        <td><h3>25195</h3></td>\n",
    "        <td><h3>36970</h3></td>\n",
    "        <td><h3>60367</h3></td>\n",
    "        <td><h3>85231</h3></td>\n",
    "        <td><h3>101325</h3></td>\n",
    "    </tr>\n",
    "    <tr>\n",
    "        <td><h3><italic>ρ</italic>/kgm<sup>-3</sup></h3></td>\n",
    "        <td><h3>0.232</h3></td>\n",
    "        <td><h3>0.489</h3></td>\n",
    "        <td><h3>0.733</h3></td>\n",
    "        <td><h3>1.250</h3></td>\n",
    "        <td><h3>1.870</h3></td>\n",
    "        <td><h3>2.300</h3></td>\n",
    "    </tr>\n",
    "</table>"
   ]
  },
  {
   "cell_type": "code",
   "execution_count": 1,
   "metadata": {
    "slideshow": {
     "slide_type": "slide"
    }
   },
   "outputs": [],
   "source": [
    "import numpy as np\n",
    "import matplotlib.pyplot as plt\n",
    "import seaborn as sns\n",
    "sns.set('poster', palette='colorblind')\n",
    "from scipy.optimize import curve_fit\n",
    "from scipy.constants import R\n",
    "\n",
    "def ideal_gas(rho, M):\n",
    "    # convert celsius to Kelvin\n",
    "    T = 25 + 273.15\n",
    "    gradient  = (R * T) / M\n",
    "    p = gradient * rho\n",
    "    return p"
   ]
  },
  {
   "cell_type": "code",
   "execution_count": null,
   "metadata": {
    "slideshow": {
     "slide_type": "slide"
    }
   },
   "outputs": [],
   "source": [
    "C = 12.011\n",
    "H = 1.008\n",
    "O = 15.999\n",
    "print('Molecular mass of dimethyl ether = {:.2f} g'.format(2 * C + O + 6 * H))"
   ]
  },
  {
   "cell_type": "code",
   "execution_count": null,
   "metadata": {
    "slideshow": {
     "slide_type": "slide"
    }
   },
   "outputs": [],
   "source": [
    "p = np.array([12231, 25195, 36970, 60367, 85231, 101325])\n",
    "rho = np.array([0.232, 0.489, 0.733, 1.250, 1.870, 2.300])\n",
    "data_points = 6\n",
    "a = curve_fit(ideal_gas, rho[:data_points], p[:data_points])\n",
    "plt.figure(figsize=(15, 7)); plt.plot(rho, p, 'o', label='data')\n",
    "plt.plot(rho, ideal_gas(rho, a[0]), label='{}'.format(data_points))\n",
    "plt.xlabel('Density/kgm$^{-3}$'); plt.ylabel('Pressure/Pa'); plt.legend(); plt.show()\n",
    "print(\"data points={}; mass={:.2f} g; real mass={:.2f} g\".format(\n",
    "    data_points, a[0][0] * 1000, 2 * C + O + 6 * H))"
   ]
  },
  {
   "cell_type": "markdown",
   "metadata": {
    "slideshow": {
     "slide_type": "slide"
    }
   },
   "source": [
    "<a href=\"http://arm61.github.io/talks/vicephec18/#/why\"><h1>Back to slides</h1></a>"
   ]
  },
  {
   "cell_type": "code",
   "execution_count": null,
   "metadata": {
    "slideshow": {
     "slide_type": "skip"
    }
   },
   "outputs": [],
   "source": []
  }
 ],
 "metadata": {
  "celltoolbar": "Slideshow",
  "kernelspec": {
   "display_name": "Python 3",
   "language": "python",
   "name": "python3"
  },
  "language_info": {
   "codemirror_mode": {
    "name": "ipython",
    "version": 3
   },
   "file_extension": ".py",
   "mimetype": "text/x-python",
   "name": "python",
   "nbconvert_exporter": "python",
   "pygments_lexer": "ipython3",
   "version": "3.6.4"
  },
  "latex_envs": {
   "LaTeX_envs_menu_present": true,
   "autoclose": false,
   "autocomplete": true,
   "bibliofile": "biblio.bib",
   "cite_by": "apalike",
   "current_citInitial": 1,
   "eqLabelWithNumbers": true,
   "eqNumInitial": 1,
   "hotkeys": {
    "equation": "Ctrl-E",
    "itemize": "Ctrl-I"
   },
   "labels_anchors": false,
   "latex_user_defs": false,
   "report_style_numbering": false,
   "user_envs_cfg": false
  }
 },
 "nbformat": 4,
 "nbformat_minor": 2
}
