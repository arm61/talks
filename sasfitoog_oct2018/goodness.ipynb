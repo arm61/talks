{
 "cells": [
  {
   "cell_type": "code",
   "execution_count": 1,
   "metadata": {},
   "outputs": [],
   "source": [
    "import numpy as np \n",
    "import matplotlib.pyplot as plt\n",
    "import matplotlib as mpl\n",
    "import pandas as pd\n",
    "import seaborn as sns\n",
    "sns.set('poster', palette='colorblind')\n",
    "import glob"
   ]
  },
  {
   "cell_type": "code",
   "execution_count": 2,
   "metadata": {},
   "outputs": [],
   "source": [
    "mpl.rcParams['axes.labelsize']=18\n",
    "mpl.rcParams['xtick.labelsize']=16\n",
    "mpl.rcParams['ytick.labelsize']=16\n",
    "mpl.rcParams['grid.linestyle'] = ''\n",
    "mpl.rcParams['axes.grid'] = True\n",
    "mpl.rcParams['axes.facecolor'] = 'w'\n",
    "mpl.rcParams['axes.linewidth'] = 1\n",
    "mpl.rcParams['axes.edgecolor'] = 'k'\n",
    "mpl.rcParams['xtick.bottom'] = True\n",
    "mpl.rcParams['ytick.left'] = True\n",
    "mpl.rcParams['legend.fontsize'] = 16"
   ]
  },
  {
   "cell_type": "code",
   "execution_count": 10,
   "metadata": {
    "scrolled": false
   },
   "outputs": [
    {
     "name": "stdout",
     "output_type": "stream",
     "text": [
      "changes = 10.5 +/- 3.1\n",
      "acceptance probablility = 0.26 +/- 0.08\n",
      "best chi = 1.761 +/- 0.322\n",
      "changes = 7.2 +/- 1.9\n",
      "acceptance probablility = 0.18 +/- 0.05\n",
      "best chi = 1.435 +/- 0.221\n",
      "changes = 4.3 +/- 1.3\n",
      "acceptance probablility = 0.11 +/- 0.03\n",
      "best chi = 2.671 +/- 0.281\n"
     ]
    }
   ],
   "source": [
    "strings = ['fitoog', 'fitoog_randem', 'fitoog_rand2']\n",
    "for s in strings:\n",
    "    changes = np.zeros(10)\n",
    "    best_run = np.zeros(10)\n",
    "    plt.subplots(figsize=(10, 7))\n",
    "    for i in range(0, 10):\n",
    "        file_name = glob.glob('testing/{}/run{}/slurm*'.format(s, i))\n",
    "        data = pd.read_csv(file_name[0], skiprows=641, \n",
    "                           names=['a', 'b', 'c', 'best_here', 'best', 'd'], \n",
    "                           delim_whitespace=True)\n",
    "        best = 1000\n",
    "        count = 0\n",
    "        all_best = []\n",
    "        for j in range(0, 4000):\n",
    "            if data['best'][j] < best:\n",
    "                count += 1\n",
    "                best = data['best'][j]\n",
    "            all_best.append(best)\n",
    "        changes[i] = count\n",
    "        best_run[i] = best\n",
    "        plt.plot(all_best)\n",
    "    print('changes = {:.1f} +/- {:.1f}'.format(changes.mean(), changes.std()))\n",
    "    print('acceptance probablility = {:.2f} +/- {:.2f}'.format(changes.mean()/4000*100, changes.std()/4000*100))\n",
    "    print('best chi = {:.3f} +/- {:.3f}'.format(best_run.mean(), best_run.std()))\n",
    "    plt.xlabel('Steps')\n",
    "    plt.ylabel('Goodness of fit')\n",
    "    plt.xscale('log')\n",
    "    plt.savefig('figures/{}.png'.format(s), dpi=300)\n",
    "    plt.close()"
   ]
  },
  {
   "cell_type": "code",
   "execution_count": null,
   "metadata": {},
   "outputs": [],
   "source": []
  }
 ],
 "metadata": {
  "kernelspec": {
   "display_name": "Python 3",
   "language": "python",
   "name": "python3"
  },
  "language_info": {
   "codemirror_mode": {
    "name": "ipython",
    "version": 3
   },
   "file_extension": ".py",
   "mimetype": "text/x-python",
   "name": "python",
   "nbconvert_exporter": "python",
   "pygments_lexer": "ipython3",
   "version": "3.7.0"
  }
 },
 "nbformat": 4,
 "nbformat_minor": 2
}
