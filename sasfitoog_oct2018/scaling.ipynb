{
 "cells": [
  {
   "cell_type": "code",
   "execution_count": 1,
   "metadata": {},
   "outputs": [],
   "source": [
    "import numpy as np\n",
    "import matplotlib.pyplot as plt\n",
    "import matplotlib as mpl\n",
    "import seaborn as sns\n",
    "sns.set('poster', palette='colorblind')\n",
    "import pandas as pd"
   ]
  },
  {
   "cell_type": "code",
   "execution_count": 2,
   "metadata": {},
   "outputs": [],
   "source": [
    "mpl.rcParams['axes.labelsize']=18\n",
    "mpl.rcParams['xtick.labelsize']=16\n",
    "mpl.rcParams['ytick.labelsize']=16\n",
    "mpl.rcParams['grid.linestyle'] = ''\n",
    "mpl.rcParams['axes.grid'] = True\n",
    "mpl.rcParams['axes.facecolor'] = 'w'\n",
    "mpl.rcParams['axes.linewidth'] = 1\n",
    "mpl.rcParams['axes.edgecolor'] = 'k'\n",
    "mpl.rcParams['xtick.bottom'] = True\n",
    "mpl.rcParams['ytick.left'] = True\n",
    "mpl.rcParams['legend.fontsize'] = 16"
   ]
  },
  {
   "cell_type": "code",
   "execution_count": 3,
   "metadata": {},
   "outputs": [],
   "source": [
    "nodes = np.array([1, 2, 4, 8, 16, 32])\n",
    "problem_size = np.array([20, 40, 80, 160, 320, 640])\n",
    "time = np.array([270.936050, 291.748521, 316.430110, 338.818525, 362.193081, 386.797987])"
   ]
  },
  {
   "cell_type": "code",
   "execution_count": 4,
   "metadata": {},
   "outputs": [],
   "source": [
    "weak_efficiency = time[0] / time"
   ]
  },
  {
   "cell_type": "code",
   "execution_count": 23,
   "metadata": {},
   "outputs": [],
   "source": [
    "fig, ax = plt.subplots(figsize=(10, 7))\n",
    "plt.plot(nodes, weak_efficiency, 'o')\n",
    "plt.ylabel('Efficiency')\n",
    "plt.xlabel('Nodes/cores')\n",
    "ax.set_xscale('log')\n",
    "ax.set_xticks(nodes)\n",
    "ax.set_xticklabels(nodes)\n",
    "plt.ylim([0, 1.1])\n",
    "plt.savefig('figures/weak_scaling.png', dpi=600)\n",
    "plt.close()"
   ]
  },
  {
   "cell_type": "code",
   "execution_count": 24,
   "metadata": {},
   "outputs": [],
   "source": [
    "nodes = np.array([1, 2, 4, 8, 16, 32])\n",
    "problem_size = np.array([640, 640, 640, 640, 640, 640])\n",
    "time = np.array([8568.147383, 4360.648770, 2169.330583, 1140.679663, 624.642218, 386.797987])"
   ]
  },
  {
   "cell_type": "code",
   "execution_count": 25,
   "metadata": {},
   "outputs": [],
   "source": [
    "strong_efficiency = time[0] / (nodes * time)"
   ]
  },
  {
   "cell_type": "code",
   "execution_count": 26,
   "metadata": {},
   "outputs": [
    {
     "name": "stdout",
     "output_type": "stream",
     "text": [
      "[ 1  2  4  8 16 32] [1.         0.98243952 0.98741836 0.93893006 0.8573055  0.69223371]\n"
     ]
    }
   ],
   "source": [
    "fig, ax = plt.subplots(figsize=(10, 7))\n",
    "plt.plot(nodes, strong_efficiency, 'o')\n",
    "print(nodes, strong_efficiency)\n",
    "plt.ylabel('Efficiency/cores$^{-1}$')\n",
    "plt.xlabel('Nodes/cores')\n",
    "ax.set_xscale('log')\n",
    "ax.set_xticks(nodes)\n",
    "ax.set_xticklabels(nodes)\n",
    "plt.ylim([0, 1.1])\n",
    "plt.savefig('figures/strong_scaling.png', dpi=600)\n",
    "plt.close()"
   ]
  },
  {
   "cell_type": "code",
   "execution_count": null,
   "metadata": {},
   "outputs": [],
   "source": []
  },
  {
   "cell_type": "code",
   "execution_count": null,
   "metadata": {},
   "outputs": [],
   "source": []
  }
 ],
 "metadata": {
  "kernelspec": {
   "display_name": "Python 3",
   "language": "python",
   "name": "python3"
  },
  "language_info": {
   "codemirror_mode": {
    "name": "ipython",
    "version": 3
   },
   "file_extension": ".py",
   "mimetype": "text/x-python",
   "name": "python",
   "nbconvert_exporter": "python",
   "pygments_lexer": "ipython3",
   "version": "3.7.0"
  },
  "latex_envs": {
   "LaTeX_envs_menu_present": true,
   "autoclose": false,
   "autocomplete": true,
   "bibliofile": "biblio.bib",
   "cite_by": "apalike",
   "current_citInitial": 1,
   "eqLabelWithNumbers": true,
   "eqNumInitial": 1,
   "hotkeys": {
    "equation": "Ctrl-E",
    "itemize": "Ctrl-I"
   },
   "labels_anchors": false,
   "latex_user_defs": false,
   "report_style_numbering": false,
   "user_envs_cfg": false
  }
 },
 "nbformat": 4,
 "nbformat_minor": 2
}
