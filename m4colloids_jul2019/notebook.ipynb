{
 "cells": [
  {
   "cell_type": "code",
   "execution_count": 5,
   "metadata": {
    "scrolled": false
   },
   "outputs": [
    {
     "data": {
      "image/png": "[encoded data removed]",
      "text/plain": [
       "<Figure size 288x155.52 with 1 Axes>"
      ]
     },
     "metadata": {
      "needs_background": "light"
     },
     "output_type": "display_data"
    }
   ],
   "source": [
    "%matplotlib inline\n",
    "import numpy as np\n",
    "import matplotlib.pyplot as plt\n",
    "import matplotlib as mpl\n",
    "\n",
    "\n",
    "\n",
    "mpl.rcParams['xtick.labelsize'] = 8\n",
    "mpl.rcParams['ytick.labelsize'] = 8\n",
    "mpl.rcParams['axes.facecolor'] = 'w'\n",
    "mpl.rcParams['lines.linewidth'] = 2\n",
    "#mpl.rcParams['axes.grid'] = True\n",
    "#mpl.rcParams['grid.color'] = (0.8, 0.8, 0.8)\n",
    "mpl.rcParams['xtick.top'] = False\n",
    "mpl.rcParams['xtick.bottom'] = True\n",
    "mpl.rcParams['ytick.left'] = True\n",
    "mpl.rcParams['grid.linestyle'] = '--'\n",
    "mpl.rcParams['legend.fontsize'] = 8\n",
    "mpl.rcParams['legend.facecolor'] = [1,1,1]\n",
    "mpl.rcParams['legend.framealpha'] = 0.75\n",
    "mpl.rcParams['axes.labelsize'] = 8\n",
    "mpl.rcParams['axes.linewidth'] = 1\n",
    "mpl.rcParams['axes.edgecolor'] = 'k'\n",
    "mpl.rcParams['font.size'] = 6\n",
    "\n",
    "year_a, all_neutron, a = np.loadtxt(\"all_neutron.txt\", unpack = True, skiprows = 1)\n",
    "year_b, all_xray, b = np.loadtxt(\"all_xray.txt\", unpack = True, skiprows = 1)\n",
    "year_c, multi_neutron, c = np.loadtxt(\"multi_neutron.txt\", unpack = True, skiprows = 1)\n",
    "year_d, multi_xray, d = np.loadtxt(\"multi_xray.txt\", unpack = True, skiprows = 1)\n",
    "year_e, neutron_md, c = np.loadtxt(\"neutron_md.txt\", unpack = True, skiprows = 1)\n",
    "year_f, xray_md, d = np.loadtxt(\"xray_md.txt\", unpack = True, skiprows = 1)\n",
    "\n",
    "year_max = int(np.amax([year_a[0], year_b[0], year_c[0], year_d[0]]))\n",
    "longest_len = np.amax([len(year_a), len(year_b), len(year_c), len(year_d)])\n",
    "years = []\n",
    "all_neu = []\n",
    "all_xra = []\n",
    "multi_neu = []\n",
    "multi_xra = []\n",
    "neu_md = []\n",
    "xra_md = [0, 0]\n",
    "for a in range(year_max, 2017):\n",
    "    years.append(a)\n",
    "    for b in range(0, len(year_a)):\n",
    "        if (year_a[b] == a):\n",
    "            all_neu.append(all_neutron[b])\n",
    "    for b in range(0, len(year_b)):\n",
    "        if (year_b[b] == a):\n",
    "            all_xra.append(all_xray[b])\n",
    "    for b in range(0, len(year_c)):\n",
    "        if (year_c[b] == a):\n",
    "            multi_neu.append(multi_neutron[b])\n",
    "    for b in range(0, len(year_d)):\n",
    "        if (year_d[b] == a):\n",
    "            multi_xra.append(multi_xray[b])\n",
    "    for b in range(0, len(year_e)):\n",
    "        if (year_e[b] == a):\n",
    "            neu_md.append(neutron_md[b])\n",
    "    for b in range(0, len(year_f)):\n",
    "        if (year_f[b] == a):\n",
    "            xra_md.append(xray_md[b])\n",
    "    \n",
    "            \n",
    "all_neu = np.asarray(all_neu)\n",
    "all_xra = np.asarray(all_xra)\n",
    "multi_neu = np.asarray(multi_neu)\n",
    "multi_xra = np.asarray(multi_xra)\n",
    "neu_md = np.asarray(neu_md)\n",
    "xra_md = np.asarray(xra_md)\n",
    "    \n",
    "fig, ax = plt.subplots(figsize=(4,2.16))\n",
    "plt.plot(years, (multi_neu) / (all_neu), color='#0173B2', linewidth=4, label = 'All other techniques')\n",
    "plt.plot(years, (neu_md) / (all_neu), color='#DE8F05', linewidth=4, label = 'Only MD')\n",
    "plt.xlabel(\"Year\")\n",
    "#ax.tick_params(axis='x', colors='#888c8a')\n",
    "#ax.tick_params(axis='y', colors='#888c8a')\n",
    "plt.ylabel(\"Neutron publications \\n with multi-modal analysis\")\n",
    "plt.xlim([np.amin(years), np.amax(years)])\n",
    "leg = plt.legend(loc='upper left', frameon=False)\n",
    "plt.ylim([0, 0.30])\n",
    "plt.yticks([0, .10, .20, .30])\n",
    "ax.text(0.99, 0.01, 'Source: Web of Science Core Collection\\nOther techniques: MD, DFT, TEM, SEM, NMR, AFM, MS, LT',\n",
    "        verticalalignment='bottom', horizontalalignment='right',\n",
    "        transform=ax.transAxes)\n",
    "plt.tight_layout()\n",
    "plt.savefig(\"figures/pubs.png\", dpi=600)"
   ]
  },
  {
   "cell_type": "code",
   "execution_count": null,
   "metadata": {},
   "outputs": [],
   "source": []
  }
 ],
 "metadata": {
  "kernelspec": {
   "display_name": "Python 3",
   "language": "python",
   "name": "python3"
  },
  "language_info": {
   "codemirror_mode": {
    "name": "ipython",
    "version": 3
   },
   "file_extension": ".py",
   "mimetype": "text/x-python",
   "name": "python",
   "nbconvert_exporter": "python",
   "pygments_lexer": "ipython3",
   "version": "3.7.0"
  }
 },
 "nbformat": 4,
 "nbformat_minor": 2
}
