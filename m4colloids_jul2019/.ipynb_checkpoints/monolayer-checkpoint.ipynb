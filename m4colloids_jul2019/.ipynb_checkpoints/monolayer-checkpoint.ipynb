{
 "cells": [
  {
   "cell_type": "markdown",
   "metadata": {},
   "source": [
    "# Analysis of X-ray reflectometry from a surfactant monolayer\n",
    "\n",
    "This Jupyter Notebook can facilite the analysis of your experimental X-ray reflectometry data from a surfactant/lipid monolayer.\n",
    "This will improve the [reproduciblity](https://www.nature.com/news/reality-check-on-reproducibility-1.19961) and reliability of your analysis and results.\n",
    "\n",
    "When writing your publication, please be sure to cite this Jupyter Notebook:\n",
    "- A. R. McCluskey. (2019, July 12). Analysis of X-ray reflectometry from a surfactant monolayer (Version 1.0.0). Zenodo. DOI: [10.5281/zenodo.xxxxxxx](http://doi.org/10.5281/zenodo.xxxxxxx)\n",
    "\n",
    "The publication that this model was taken from:\n",
    "- A. R. McCluskey, A. Sanchez-Fernandez, K. J. Edler, S. C. Parker, A. J. Jackson, R. A. Campbell, and T. Arnold. (2019). *Phys. Chem. Chem. Phys.*, **21**, 6133-6141. DOI: [10.1039/C9CP00203K](http://doi.org/10.1039/C9CP00203K).\n",
    "\n",
    "And the software that was used to perform the analysis: \n",
    "- A. R. J. Nelson and S. W. Prescott. (2019). *J. Appl. Crystallogr.*, **52**, 193-200. DOI: [10.1107/S1600576718017296](http://doi.org/10.1107/S1600576718017296).\n",
    "\n",
    "## How to use\n",
    "\n",
    "To use this analysis methodology, please follow through this notebook and fill in the required fields. \n",
    "Once all of the fields are completed, select \"Cell\" from the toolbar at the top of the page and choose \"Run All\". \n",
    "This will run the commands in all of the Python cells throughout the Notebook, generate an analysis output, which will describe the model system that best agrees with the experimental data, and publication quality figures for use in your paper/talk.\n",
    "\n",
    "If you need any help along the way please contact andrew.mccluskey@diamond.ac.uk or scientificsoftware@diamond.ac.uk.\n",
    "\n",
    "## The model\n",
    "\n",
    "The model is that of a surfactant or lipid monolayer that has self-assembled at an air-liquid interface.\n",
    "Shown below is a pictorial example of the expected structure, and the associated model that will be used in the analysis. \n",
    "\n",
    "<img src=\"./figures/models.png\" width=90%><br>\n",
    "<center><small><i>Figure 1. expected structure of the surfactant monolayer and a graphical description of the model.</i></small></center>\n",
    "\n",
    "This model describes the surfactant monolayer as two layers between the solvent and air semi-infinite layers and will calculate the reflectometry data from the model. \n",
    "The model will then be refined against the experimental data to offer the best agreement with the data. \n",
    "\n",
    "The layers associated with the monolayer are defined in terms of the following; the head or tail component volume ($V_i$), the thickness of the layer ($d_i$), the interfacial roughness of the layer ($\\sigma_i$), and the volume fraction of solvent in the layer ($\\phi_i$). \n",
    "One of these parameters (which you can choose) will be constrained based on the chemical assumption that for every head group there must be an associated tail group, \n",
    "\n",
    "\\begin{equation}\n",
    "\\frac{d_h(1-\\phi_h)}{V_h} = \\frac{d_t(1-\\phi_t)}{V_t}.\n",
    "\\end{equation}\n",
    "\n",
    "The scattering length density, $\\rho_i$ of the given layer is then defined as, \n",
    "\n",
    "\\begin{equation}\n",
    "\\rho_i = \\frac{b_i}{V_i}(1-\\phi_i) + \\rho_s\\phi_i,\n",
    "\\end{equation}\n",
    "\n",
    "where, $b_i$ is the scattering length of the given component (found by summing the scattering lengths for the individual atoms) and $\\rho_s$ is the scattering length density of the solvent (or the air if so desired).\n",
    "\n",
    "## Importing code\n",
    "\n",
    "The following code blocks are present to ensure that the correct Python libraries have been imported to allow the analysis to be completed."
   ]
  },
  {
   "cell_type": "code",
   "execution_count": 1,
   "metadata": {},
   "outputs": [],
   "source": [
    "import numpy as np\n",
    "import refnx\n",
    "import monolayer_model as mm\n",
    "import toolbox as tb\n",
    "import matplotlib.pyplot"
   ]
  },
  {
   "cell_type": "markdown",
   "metadata": {},
   "source": [
    "## The experimental data\n",
    "\n",
    "We will now have a look at the experimental data that you will be analysing.\n",
    "In the cell below, please complete the empty declarations."
   ]
  },
  {
   "cell_type": "code",
   "execution_count": 2,
   "metadata": {},
   "outputs": [
    {
     "data": {
      "image/png": "[encoded data removed]",
      "text/plain": [
       "<Figure size 432x288 with 1 Axes>"
      ]
     },
     "metadata": {
      "needs_background": "light"
     },
     "output_type": "display_data"
    }
   ],
   "source": [
    "experiment_number = 'si124029-1'\n",
    "run_number = '120394'\n",
    "fig, data = tb.experimental_data(experiment_number, run_number)"
   ]
  },
  {
   "cell_type": "markdown",
   "metadata": {},
   "source": [
    "## Defining the model\n",
    "\n",
    "The first parameters required to set up the model are the surfactant type (or chemical formula) and the subphase. "
   ]
  },
  {
   "cell_type": "code",
   "execution_count": 3,
   "metadata": {},
   "outputs": [
    {
     "name": "stdout",
     "output_type": "stream",
     "text": [
      "######\n",
      "dppc was found in our library of surfactants. The head group consists of:\n",
      "- C: 10 atoms\n",
      "- H: 18 atoms\n",
      "- O: 8 atoms\n",
      "- N: 1 atoms\n",
      "- P: 1 atoms\n",
      "The tail group consists of:\n",
      "- C: 30 atoms\n",
      "- H: 62 atoms\n",
      "Therefore, the total scattering length of the head is 4.64e-03+1.02e-05j Å and of the tail is 6.83e-03+3.28e-06j Å.\n",
      "######\n",
      "The dppc head volume will be taken as 320.9 Å^3.\n",
      "The dppc tail volume will be taken as 966.4 Å^3.\n",
      "These head and tail values were taken from DOI: 10.1016/S0006-3495(98)77563-0 (please cite this reference if these values are used).\n",
      "######\n",
      "h2o was found in our subphse library. The SLD of h2o is (9.469-0.032j)e-6 Å.\n"
     ]
    }
   ],
   "source": [
    "surfactant = 'dppc'\n",
    "subphase = 'h2o'\n",
    "model = mm.Monolayer(surfactant, subphase)"
   ]
  },
  {
   "cell_type": "markdown",
   "metadata": {},
   "source": [
    "Having defined the surfactant and the subphase, we can now move to completing the model. \n",
    "Below, if a particular value should be allowed to vary in the analysis, set the `vary` variable to `True`, and uncomment the `bounds` variable and define sensible bounds. \n",
    "If you want a value to remain constant, keep `vary` as `False`. \n",
    "All values, regardless of if they are variable or not must have a `value` set, for constant this is the value that will be used, whereas for variables this is the initial guess. "
   ]
  },
  {
   "cell_type": "code",
   "execution_count": 4,
   "metadata": {},
   "outputs": [],
   "source": [
    "# Head layer thickness\n",
    "model.thick_h.vary = True\n",
    "model.thick_h.value = 10.\n",
    "model.thick_h.bounds = (5, 15)"
   ]
  },
  {
   "cell_type": "code",
   "execution_count": 5,
   "metadata": {},
   "outputs": [],
   "source": [
    "# Tail layer thickness\n",
    "model.thick_t.vary = True\n",
    "model.thick_t.value = 17.\n",
    "model.thick_t.bounds = (12, 22)"
   ]
  },
  {
   "cell_type": "code",
   "execution_count": 6,
   "metadata": {},
   "outputs": [],
   "source": [
    "# Head layer solvent fraction\n",
    "model.phi_h.vary = True\n",
    "model.phi_h.value = 0.5\n",
    "model.phi_h.bounds = (0.2, 0.8)"
   ]
  },
  {
   "cell_type": "code",
   "execution_count": 7,
   "metadata": {},
   "outputs": [],
   "source": [
    "# Tail layer solvent fraction\n",
    "model.phi_t.vary = False\n",
    "model.phi_t.value = 0.0\n",
    "#model.phi_t.bounds = (0.2, 0.8)"
   ]
  },
  {
   "cell_type": "markdown",
   "metadata": {},
   "source": [
    "For the head and tail component volumes, these may already have been defined in above. \n",
    "However, below is it possible to change the values and allow these to vary."
   ]
  },
  {
   "cell_type": "code",
   "execution_count": 8,
   "metadata": {},
   "outputs": [],
   "source": [
    "# Head component volume\n",
    "model.mol_vol_h.vary = False\n",
    "#model.mol_vol_h.value = 320\n",
    "#model.mol_vol_h.bounds = (250, 400)"
   ]
  },
  {
   "cell_type": "code",
   "execution_count": 9,
   "metadata": {},
   "outputs": [],
   "source": [
    "# Tail component volume\n",
    "model.mol_vol_t.vary = False\n",
    "#model.mol_vol_t.value = 900\n",
    "#model.mol_vol_t.bounds = (700, 1200)"
   ]
  },
  {
   "cell_type": "markdown",
   "metadata": {},
   "source": [
    "The next step is to define the interfacial roughness(es). \n",
    "If you would like the interfacial roughness to be conformal (so all three roughnesses are the same value), run the function with one value. \n",
    "However, if you would like to have three separate values, include these are a list. "
   ]
  },
  {
   "cell_type": "code",
   "execution_count": 10,
   "metadata": {},
   "outputs": [],
   "source": [
    "model.set_roughness([3.3], True, upper_bounds=[3.6], lower_bounds=[3.0])\n",
    "#model.set_roughness([3, 4, 5], [False, False, False])"
   ]
  },
  {
   "cell_type": "markdown",
   "metadata": {},
   "source": [
    "The code below, will constraint the value on the tail layer thickness, based on the chemical constraint discussed above. \n",
    "However, if you would rather another variable from the above equation is constrained please speak to the instrument scientists. "
   ]
  },
  {
   "cell_type": "code",
   "execution_count": 11,
   "metadata": {},
   "outputs": [],
   "source": [
    "model.thick_t.constraint = model.thick_h * (1 - model.phi_h) * model.mol_vol_t / (model.mol_vol_h * (1 - model.phi_t))"
   ]
  },
  {
   "cell_type": "markdown",
   "metadata": {},
   "source": [
    "Now we must carry out the fitting of the model to the data, based on the variables that you have outlined above. \n",
    "Please set some integer (for example 1) as the seed below. \n",
    "This is to ensure reproducibility of your analysis. \n",
    "Then run the cell, once an optimum solution has been determined, the results will print."
   ]
  },
  {
   "cell_type": "code",
   "execution_count": 12,
   "metadata": {},
   "outputs": [
    {
     "name": "stdout",
     "output_type": "stream",
     "text": [
      "________________________________________________________________________________\n",
      "Objective - 112100616120\n",
      "Dataset = 120394\n",
      "datapoints = 83\n",
      "chi2 = 179642.81331144992\n",
      "Weighted = True\n",
      "Transform = Transform('YX4')\n",
      "________________________________________________________________________________\n",
      "Parameters:       ''       \n",
      "________________________________________________________________________________\n",
      "Parameters: 'instrument parameters'\n",
      "<Parameter:    'scale'    , value=0.857189 +/- 0.000558, bounds=[0.005, 10]>\n",
      "<Parameter:     'bkg'     , value=1.05407e-09 +/- 2.17e-11, bounds=[1.621886812052857e-10, 1.621886812052857e-08]>\n",
      "<Parameter:'dq - resolution', value=5 (fixed)  , bounds=[-inf, inf]>\n",
      "________________________________________________________________________________\n",
      "Parameters: 'dppc_monolayer_at_air/h2o'\n",
      "<Parameter:'dppc_monolayer_at_air/h2o - thickness_head', value=9.90155 +/- 0.00595, bounds=[5, 15]>\n",
      "<Parameter:'dppc_monolayer_at_air/h2o - thickness_tail', value=15.9104          , bounds=[12, 22], constraint=<Parameter:     None      , value=15.9104 (fixed)  , bounds=None>>\n",
      "<Parameter:'dppc_monolayer_at_air/h2o - molecular_volume_head', value=320.9 (fixed)  , bounds=[-inf, inf]>\n",
      "<Parameter:'dppc_monolayer_at_air/h2o - molecular_volume_tail', value=966.4 (fixed)  , bounds=[-inf, inf]>\n",
      "<Parameter:'dppc_monolayer_at_air/h2o - roughness_head_tail', value=3.59946          , bounds=[-inf, inf], constraint=<Parameter:'dppc_monolayer_at_air/h2o - roughness_tail_air', value=3.59946 +/- 0.00112, bounds=[3.0, 3.6]>>\n",
      "<Parameter:'dppc_monolayer_at_air/h2o - roughness_tail_air', value=3.59946 +/- 0.00112, bounds=[3.0, 3.6]>\n",
      "<Parameter:'dppc_monolayer_at_air/h2o - solvation_head', value=0.466431 +/- 0.000402, bounds=[0.2, 0.8]>\n",
      "<Parameter:'dppc_monolayer_at_air/h2o - solvation_tail', value=0 (fixed)  , bounds=[-inf, inf]>\n",
      "<Parameter:'dppc_monolayer_at_air/h2o - roughness_tail_air', value=3.59946          , bounds=[-inf, inf], constraint=<Parameter:'dppc_monolayer_at_air/h2o - roughness_tail_air', value=3.59946 +/- 0.00112, bounds=[3.0, 3.6]>>\n"
     ]
    }
   ],
   "source": [
    "seed = 1\n",
    "objective = mm.run_analysis(model, data, seed)"
   ]
  },
  {
   "cell_type": "code",
   "execution_count": 13,
   "metadata": {},
   "outputs": [
    {
     "data": {
      "image/png": "[encoded data removed]",
      "text/plain": [
       "<Figure size 432x288 with 1 Axes>"
      ]
     },
     "metadata": {
      "needs_background": "light"
     },
     "output_type": "display_data"
    }
   ],
   "source": [
    "fig, ax = mm.plot(objective, rq4=True)"
   ]
  },
  {
   "cell_type": "markdown",
   "metadata": {},
   "source": [
    "The above figure may be saved using `plt.savefig('filename.png')` in the above cell. "
   ]
  }
 ],
 "metadata": {
  "kernelspec": {
   "display_name": "Python 3",
   "language": "python",
   "name": "python3"
  },
  "language_info": {
   "codemirror_mode": {
    "name": "ipython",
    "version": 3
   },
   "file_extension": ".py",
   "mimetype": "text/x-python",
   "name": "python",
   "nbconvert_exporter": "python",
   "pygments_lexer": "ipython3",
   "version": "3.6.8"
  }
 },
 "nbformat": 4,
 "nbformat_minor": 2
}
